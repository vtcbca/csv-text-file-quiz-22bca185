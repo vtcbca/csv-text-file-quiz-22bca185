{
 "cells": [
  {
   "cell_type": "markdown",
   "id": "b97034c1",
   "metadata": {},
   "source": [
    "###create contact.csv file which contain name,contact.use\"!\"asdelimiter.\n",
    "serch perticular contact by entering person name."
   ]
  },
  {
   "cell_type": "code",
   "execution_count": 1,
   "id": "05af6087",
   "metadata": {},
   "outputs": [],
   "source": [
    "import csv"
   ]
  },
  {
   "cell_type": "code",
   "execution_count": 3,
   "id": "6b740eab",
   "metadata": {},
   "outputs": [
    {
     "name": "stdout",
     "output_type": "stream",
     "text": [
      "<_io.TextIOWrapper name='contact.csv' mode='w' encoding='cp1252'>\n"
     ]
    }
   ],
   "source": [
    "f=open('contact.csv','w',newline='')\n",
    "print(f)"
   ]
  },
  {
   "cell_type": "code",
   "execution_count": 5,
   "id": "1f32a355",
   "metadata": {},
   "outputs": [],
   "source": [
    "w=csv.writer(f)"
   ]
  },
  {
   "cell_type": "code",
   "execution_count": 6,
   "id": "cb62e0bc",
   "metadata": {},
   "outputs": [],
   "source": [
    "header=[\"name\",\"contact\"]"
   ]
  },
  {
   "cell_type": "code",
   "execution_count": 7,
   "id": "af899868",
   "metadata": {},
   "outputs": [
    {
     "data": {
      "text/plain": [
       "14"
      ]
     },
     "execution_count": 7,
     "metadata": {},
     "output_type": "execute_result"
    }
   ],
   "source": [
    "w.writerow(header)"
   ]
  },
  {
   "cell_type": "code",
   "execution_count": 8,
   "id": "0beb11f2",
   "metadata": {},
   "outputs": [],
   "source": [
    "row=[[\"om\",4654],[\"sai\",34534],[\"ram\",3543],[\"shiv\",46443],[\"krishna\",38965]]"
   ]
  },
  {
   "cell_type": "code",
   "execution_count": 9,
   "id": "9c5068b5",
   "metadata": {},
   "outputs": [],
   "source": [
    "w.writerows(row)"
   ]
  },
  {
   "cell_type": "code",
   "execution_count": 10,
   "id": "493d007d",
   "metadata": {},
   "outputs": [],
   "source": [
    "f.close()"
   ]
  },
  {
   "cell_type": "code",
   "execution_count": 11,
   "id": "bd2931eb",
   "metadata": {},
   "outputs": [
    {
     "name": "stdout",
     "output_type": "stream",
     "text": [
      "['name', 'contact']\n",
      "['om', '4654']\n",
      "['sai', '34534']\n",
      "['ram', '3543']\n",
      "['shiv', '46443']\n",
      "['krishna', '38965']\n"
     ]
    }
   ],
   "source": [
    "with open('contact.csv','r',newline='')as f:\n",
    "    r=csv.reader(f)\n",
    "    for row in r:\n",
    "        print(row)\n",
    "    "
   ]
  },
  {
   "cell_type": "code",
   "execution_count": null,
   "id": "16abb243",
   "metadata": {},
   "outputs": [],
   "source": []
  }
 ],
 "metadata": {
  "kernelspec": {
   "display_name": "Python 3 (ipykernel)",
   "language": "python",
   "name": "python3"
  },
  "language_info": {
   "codemirror_mode": {
    "name": "ipython",
    "version": 3
   },
   "file_extension": ".py",
   "mimetype": "text/x-python",
   "name": "python",
   "nbconvert_exporter": "python",
   "pygments_lexer": "ipython3",
   "version": "3.9.6"
  }
 },
 "nbformat": 4,
 "nbformat_minor": 5
}
